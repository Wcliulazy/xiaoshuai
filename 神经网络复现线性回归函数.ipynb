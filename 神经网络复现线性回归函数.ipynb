{
 "cells": [
  {
   "cell_type": "markdown",
   "id": "c865973f",
   "metadata": {},
   "source": [
    "### 线性回归任务的复现 y =2x + 1\n",
    "\n"
   ]
  },
  {
   "cell_type": "code",
   "execution_count": 2,
   "id": "3be3ef96",
   "metadata": {},
   "outputs": [
    {
     "data": {
      "text/plain": [
       "(11, 1)"
      ]
     },
     "execution_count": 2,
     "metadata": {},
     "output_type": "execute_result"
    }
   ],
   "source": [
    "import numpy as np\n",
    "x_value = [i for i in range(11)]\n",
    "x_train = np.array(x_value, dtype = np.float32)\n",
    "x_train = x_train.reshape(-1, 1)\n",
    "x_train.shape"
   ]
  },
  {
   "cell_type": "code",
   "execution_count": 4,
   "id": "8a78caf5",
   "metadata": {},
   "outputs": [
    {
     "data": {
      "text/plain": [
       "(11, 1)"
      ]
     },
     "execution_count": 4,
     "metadata": {},
     "output_type": "execute_result"
    }
   ],
   "source": [
    "y_value = [2 * i + 1 for i in x_value]\n",
    "y_train = np.array(y_value, dtype = np.float32)\n",
    "y_train = y_train.reshape(-1, 1)\n",
    "y_train.shape"
   ]
  },
  {
   "cell_type": "code",
   "execution_count": 5,
   "id": "946e923f",
   "metadata": {},
   "outputs": [],
   "source": [
    "import torch\n",
    "import torch.nn as nn"
   ]
  },
  {
   "cell_type": "markdown",
   "id": "f93a4d62",
   "metadata": {},
   "source": [
    "### 线性回归模型\n",
    "* 其实线性回归模型就是一个全连接层"
   ]
  },
  {
   "cell_type": "code",
   "execution_count": 9,
   "id": "1263cec1",
   "metadata": {},
   "outputs": [],
   "source": [
    "class LinearRegressionModel(nn.Module):\n",
    "    def __init__(self, input_dim, output_dim):\n",
    "        super(LinearRegressionModel, self).__init__()\n",
    "        self.linear = nn.Linear(input_dim, output_dim)\n",
    "    \n",
    "    def forward(self, x):\n",
    "        out = self.linear(x)\n",
    "        return out"
   ]
  },
  {
   "cell_type": "code",
   "execution_count": 12,
   "id": "216131dd",
   "metadata": {},
   "outputs": [],
   "source": [
    "input_dim = 1\n",
    "output_dim = 1\n",
    "\n",
    "model = LinearRegressionModel(input_dim, output_dim)"
   ]
  },
  {
   "cell_type": "code",
   "execution_count": 13,
   "id": "57a42995",
   "metadata": {},
   "outputs": [
    {
     "data": {
      "text/plain": [
       "LinearRegressionModel(\n",
       "  (linear): Linear(in_features=1, out_features=1, bias=True)\n",
       ")"
      ]
     },
     "execution_count": 13,
     "metadata": {},
     "output_type": "execute_result"
    }
   ],
   "source": [
    "model"
   ]
  },
  {
   "cell_type": "markdown",
   "id": "b7486d71",
   "metadata": {},
   "source": [
    "### 指定好参数和损失函数"
   ]
  },
  {
   "cell_type": "code",
   "execution_count": 14,
   "id": "960e3087",
   "metadata": {},
   "outputs": [],
   "source": [
    "epochs = 1000\n",
    "learning_rate = 0.01\n",
    "optimizer = torch.optim.SGD(model.parameters(), lr = learning_rate)\n",
    "criterion = nn.MSELoss()"
   ]
  },
  {
   "cell_type": "markdown",
   "id": "204c85a4",
   "metadata": {},
   "source": [
    "### 训练模型"
   ]
  },
  {
   "cell_type": "code",
   "execution_count": 15,
   "id": "ce524009",
   "metadata": {},
   "outputs": [
    {
     "name": "stdout",
     "output_type": "stream",
     "text": [
      "epoch50, loss0.11385955661535263\n",
      "epoch100, loss0.06494120508432388\n",
      "epoch150, loss0.037039998918771744\n",
      "epoch200, loss0.02112622745335102\n",
      "epoch250, loss0.012049619108438492\n",
      "epoch300, loss0.006872622761875391\n",
      "epoch350, loss0.0039199297316372395\n",
      "epoch400, loss0.0022357702255249023\n",
      "epoch450, loss0.00127522146794945\n",
      "epoch500, loss0.0007273294031620026\n",
      "epoch550, loss0.00041484145913273096\n",
      "epoch600, loss0.00023661168233957142\n",
      "epoch650, loss0.00013494979066308588\n",
      "epoch700, loss7.696973625570536e-05\n",
      "epoch750, loss4.3905238271690905e-05\n",
      "epoch800, loss2.5041599656105973e-05\n",
      "epoch850, loss1.4281982657848857e-05\n",
      "epoch900, loss8.147126209223643e-06\n",
      "epoch950, loss4.646578872780083e-06\n",
      "epoch1000, loss2.6495415568206226e-06\n"
     ]
    }
   ],
   "source": [
    "for epoch in range(epochs):\n",
    "    epoch += 1\n",
    "    # 转换为 tensor\n",
    "    inputs = torch.from_numpy(x_train)\n",
    "    labels = torch.from_numpy(y_train)\n",
    "    # 梯度清零\n",
    "    optimizer.zero_grad()\n",
    "    # 前向传播\n",
    "    outputs = model(inputs)\n",
    "    # 计算损失\n",
    "    loss = criterion(outputs, labels)\n",
    "    \n",
    "    # 反向传播\n",
    "    loss.backward()\n",
    "    # 更新权重参数\n",
    "    optimizer.step()\n",
    "    if epoch % 50 == 0:\n",
    "        print('epoch{}, loss{}'.format(epoch, loss.item()))"
   ]
  },
  {
   "cell_type": "markdown",
   "id": "5db9d59e",
   "metadata": {},
   "source": [
    "### 测试模型预测结果"
   ]
  },
  {
   "cell_type": "code",
   "execution_count": 18,
   "id": "a4c7a417",
   "metadata": {},
   "outputs": [
    {
     "data": {
      "text/plain": [
       "array([[ 0.9969717],\n",
       "       [ 2.997408 ],\n",
       "       [ 4.9978437],\n",
       "       [ 6.99828  ],\n",
       "       [ 8.998716 ],\n",
       "       [10.999152 ],\n",
       "       [12.999589 ],\n",
       "       [15.000025 ],\n",
       "       [17.00046  ],\n",
       "       [19.000896 ],\n",
       "       [21.001331 ]], dtype=float32)"
      ]
     },
     "execution_count": 18,
     "metadata": {},
     "output_type": "execute_result"
    }
   ],
   "source": [
    "predicted = model(torch.from_numpy(x_train).requires_grad_()).data.numpy()\n",
    "predicted"
   ]
  },
  {
   "cell_type": "code",
   "execution_count": 28,
   "id": "2a0a6f21",
   "metadata": {},
   "outputs": [],
   "source": [
    "data = predicted.reshape(-1,)"
   ]
  },
  {
   "cell_type": "code",
   "execution_count": 50,
   "id": "8269c47c",
   "metadata": {},
   "outputs": [
    {
     "data": {
      "image/png": "[encoded data removed]",
      "text/plain": [
       "<Figure size 800x80 with 1 Axes>"
      ]
     },
     "metadata": {},
     "output_type": "display_data"
    }
   ],
   "source": [
    "from matplotlib import pyplot as plt\n",
    "plt.figure(figsize = (10,1), dpi = 80)\n",
    "x = [i for i in range(11)]\n",
    "# plt.plot(x, data ,label = \"predicted\", color = \"orange\",linestyle= ':')\n",
    "# plt.plot(x, y_value,color = \"blue\", linestyle= \"--\")\n",
    "plt.scatter(x, data - y_value, color = \"red\", linestyle = ':')\n",
    "plt.show()"
   ]
  },
  {
   "cell_type": "code",
   "execution_count": null,
   "id": "3435685b",
   "metadata": {},
   "outputs": [],
   "source": []
  }
 ],
 "metadata": {
  "kernelspec": {
   "display_name": "Python 3 (ipykernel)",
   "language": "python",
   "name": "python3"
  },
  "language_info": {
   "codemirror_mode": {
    "name": "ipython",
    "version": 3
   },
   "file_extension": ".py",
   "mimetype": "text/x-python",
   "name": "python",
   "nbconvert_exporter": "python",
   "pygments_lexer": "ipython3",
   "version": "3.11.5"
  }
 },
 "nbformat": 4,
 "nbformat_minor": 5
}
